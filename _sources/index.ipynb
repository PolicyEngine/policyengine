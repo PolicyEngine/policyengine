{
 "cells": [
  {
   "cell_type": "markdown",
   "metadata": {},
   "source": [
    "# PolicyEngine documentation\n",
    "\n",
    "`policyengine` is a Python package that powers the interactive PolicyEngine site, allowing users additional flexibility in exploring UK and US tax-benefit systems. It builds on the OpenFisca UK and OpenFisca US tax-benefit models (which are also open-source Python packages) by providing a standardised interface for analysing policy reforms to both systems.\n",
    "\n",
    "## Example 1: microsimulation analysis"
   ]
  },
  {
   "cell_type": "code",
   "execution_count": 4,
   "metadata": {},
   "outputs": [
    {
     "data": {
      "text/markdown": [
       "From this code snippet above, PolicyEngine estimates that revenue loss from lowering the US first tax rate from 10\\% to 5\\% is **$76.2bn**."
      ],
      "text/plain": [
       "<IPython.core.display.Markdown object>"
      ]
     },
     "execution_count": 4,
     "metadata": {},
     "output_type": "execute_result"
    }
   ],
   "source": [
    "from policyengine import PolicyEngineUS\n",
    "from IPython.display import Markdown\n",
    "\n",
    "baseline, reformed = PolicyEngineUS().create_microsimulations(\n",
    "    dict(\n",
    "        gov_irs_income_bracket_rates_1=0.05,  # Set the first tax rate to 5% (currently 10%)\n",
    "    )\n",
    ")\n",
    "\n",
    "gain = (\n",
    "    reformed.calc(\"spm_unit_net_income\").sum()\n",
    "    - baseline.calc(\"spm_unit_net_income\").sum()\n",
    ")\n",
    "Markdown(\n",
    "    f\"From this code snippet above, PolicyEngine estimates that revenue loss from lowering the US first tax rate from 10\\% to 5\\% is **${gain.sum() / 1e9:.1f}bn**.\"\n",
    ")"
   ]
  }
 ],
 "metadata": {
  "kernelspec": {
   "display_name": "Python 3.7.11 ('policyengine')",
   "language": "python",
   "name": "python3"
  },
  "language_info": {
   "codemirror_mode": {
    "name": "ipython",
    "version": 3
   },
   "file_extension": ".py",
   "mimetype": "text/x-python",
   "name": "python",
   "nbconvert_exporter": "python",
   "pygments_lexer": "ipython3",
   "version": "3.7.11"
  },
  "orig_nbformat": 4,
  "vscode": {
   "interpreter": {
    "hash": "8dfc7b25af29ff50af05ad7ef5344155df419318e539ca710572e6dd4f9023a3"
   }
  }
 },
 "nbformat": 4,
 "nbformat_minor": 2
}
